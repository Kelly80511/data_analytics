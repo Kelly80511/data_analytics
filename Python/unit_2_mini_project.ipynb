{
  "nbformat": 4,
  "nbformat_minor": 0,
  "metadata": {
    "colab": {
      "name": "unit 2 mini-project.ipynb",
      "provenance": []
    },
    "kernelspec": {
      "name": "python3",
      "display_name": "Python 3"
    }
  },
  "cells": [
    {
      "cell_type": "markdown",
      "metadata": {
        "id": "CVR_y3-a_TdM"
      },
      "source": [
        " MINI PROJECT\n",
        "• Ask the user for a number. Depending on whether the number is even or odd, print out an appropriate message to the user. Hint: how does an even / odd number react differently when divided by 2?\n",
        "Bonus:\n",
        "• If the number is a multiple of 4, print out a different message.\n",
        "• Ask the user for two numbers: one number to check (call it num) and one number to divide by (check). If check divides evenly into num, tell that to the user. If not, print a different appropriate message.\n",
        "• Write a custom function for finding whether the number is even or odd and call it in your main program code.\n",
        " "
      ]
    },
    {
      "cell_type": "code",
      "metadata": {
        "colab": {
          "base_uri": "https://localhost:8080/"
        },
        "id": "K_x6hEIB_PY9",
        "outputId": "6f537c2b-00cb-4458-bfe3-dae6591609d8"
      },
      "source": [
        "#Ask the user for a number. Depending on whether the number is even or odd, print out an appropriate message to the user. \n",
        "num = int(input('Please enter a number: '))\n",
        "if num % 2 == 0:\n",
        "  print(str(num) + ' is an even number.')\n",
        "else:\n",
        "  print(str(num) + ' is an odd number.')\n",
        "\n",
        "#If the number is a multiple of 4, print out a different message.\n",
        "num = int(input('Please enter a number: '))\n",
        "if num % 4 == 0:\n",
        "  print(str(num) + ' is a nultiple of 4.')\n",
        "elif num % 2 == 0:\n",
        "  print(str(num) + ' is an even number.')\n",
        "else:\n",
        "  print(str(num) + ' is an odd number.')\n",
        "  \n",
        "#Ask the user for two numbers: one number to check (call it num) and one number to divide by (check). \n",
        "num = int(input('Please enter the first number: '))\n",
        "check = int(input('Please enter the second number: '))\n",
        "if num % check == 0:\n",
        "    print(str(num) + ' could be divided evenly by ' + str(check) + '.')\n",
        "else:\n",
        "    print(str(num) + ' could not be divided evenly by ' + str(check) + '.')\n",
        "    \n",
        "#Write a custom function for finding whether the number is even or odd and call it in your main program code.\n",
        "def greeting(num):\n",
        "  if num % 2 == 0:\n",
        "    print(str(num) + ' is an even number.')\n",
        "  else:\n",
        "    print(str(num) + ' is an odd number.')\n",
        "greeting(9)"
      ],
      "execution_count": 2,
      "outputs": [
        {
          "output_type": "stream",
          "text": [
            "Please enter a number: 4\n",
            "4 is an even number.\n",
            "Please enter a number: 4\n",
            "4 is a nultiple of 4.\n",
            "Please enter the first number: 4\n",
            "Please enter the second number: 5\n",
            "4 could not be divided evenly by 5.\n",
            "9 is an odd number.\n"
          ],
          "name": "stdout"
        }
      ]
    }
  ]
}